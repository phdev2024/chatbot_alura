{
  "nbformat": 4,
  "nbformat_minor": 0,
  "metadata": {
    "colab": {
      "provenance": [],
      "authorship_tag": "ABX9TyOv2DOmPUuGtDSk8rVvtp7z",
      "include_colab_link": true
    },
    "kernelspec": {
      "name": "python3",
      "display_name": "Python 3"
    },
    "language_info": {
      "name": "python"
    }
  },
  "cells": [
    {
      "cell_type": "markdown",
      "metadata": {
        "id": "view-in-github",
        "colab_type": "text"
      },
      "source": [
        "<a href=\"https://colab.research.google.com/github/phdev2024/chatbot_alura/blob/main/ChatbotAlura.ipynb\" target=\"_parent\"><img src=\"https://colab.research.google.com/assets/colab-badge.svg\" alt=\"Open In Colab\"/></a>"
      ]
    },
    {
      "cell_type": "markdown",
      "source": [
        "\n",
        "\n",
        "\n"
      ],
      "metadata": {
        "id": "y8Jri8gRQH4B"
      }
    },
    {
      "cell_type": "code",
      "execution_count": 1,
      "metadata": {
        "id": "i5LmEsSsNvtX"
      },
      "outputs": [],
      "source": [
        "!pip install -q -U google-generativeai\n",
        "\n",
        "# Import the Python SDK\n",
        "import google.generativeai as genai\n",
        "from google.colab import userdata\n",
        "API_KEY = userdata.get('CHAVE_SECRETA')\n",
        "genai.configure(api_key=API_KEY)"
      ]
    },
    {
      "cell_type": "markdown",
      "source": [
        "LISTAR OS MODELOS DISPONIVEIS"
      ],
      "metadata": {
        "id": "2ON2YDOvTA3i"
      }
    },
    {
      "cell_type": "code",
      "source": [
        "for m in genai.list_models():\n",
        "    if 'generateContent' in m.supported_generation_methods:\n",
        "        print(m.name)"
      ],
      "metadata": {
        "colab": {
          "base_uri": "https://localhost:8080/",
          "height": 139
        },
        "id": "FYQTWc8qRfgD",
        "outputId": "d49b61ba-b5cb-43d2-a6e9-27a413d3d520"
      },
      "execution_count": 2,
      "outputs": [
        {
          "output_type": "stream",
          "name": "stdout",
          "text": [
            "models/gemini-1.0-pro\n",
            "models/gemini-1.0-pro-001\n",
            "models/gemini-1.0-pro-latest\n",
            "models/gemini-1.0-pro-vision-latest\n",
            "models/gemini-1.5-pro-latest\n",
            "models/gemini-pro\n",
            "models/gemini-pro-vision\n"
          ]
        }
      ]
    },
    {
      "cell_type": "code",
      "source": [
        "generation_config = {\n",
        "    'candidate_count': 1,\n",
        "    'temperature': 0.5,\n",
        "}"
      ],
      "metadata": {
        "id": "8nulTB3QVJLZ"
      },
      "execution_count": 3,
      "outputs": []
    },
    {
      "cell_type": "markdown",
      "source": [
        "CONFIGURAÇÃO DE SEGURANÇA"
      ],
      "metadata": {
        "id": "PuSieC9fWula"
      }
    },
    {
      "cell_type": "code",
      "source": [
        "safety_settings = {\n",
        "    'HARASSMENT': 'BLOCK_NONE',\n",
        "    'HATE': 'BLOCK_NONE',\n",
        "    'SEXUAL': 'BLOCK_NONE',\n",
        "    'DANGEROUS': 'BLOCK_NONE',\n",
        "}"
      ],
      "metadata": {
        "id": "syCCr1kmVvzN"
      },
      "execution_count": 4,
      "outputs": []
    },
    {
      "cell_type": "markdown",
      "source": [
        "INICIALIZANDO O MODELO"
      ],
      "metadata": {
        "id": "imomYFuiW4yW"
      }
    },
    {
      "cell_type": "code",
      "source": [
        "model = genai.GenerativeModel(model_name='gemini-1.0-pro',\n",
        "                              generation_config=generation_config,\n",
        "                              safety_settings=safety_settings)"
      ],
      "metadata": {
        "id": "UKJHB4ETWVb1"
      },
      "execution_count": 5,
      "outputs": []
    },
    {
      "cell_type": "code",
      "source": [
        "response = model.generate_content(\"Vamos aprender conteúdo sobre IA. Me dê sugestões.\")\n",
        "print(response.text)"
      ],
      "metadata": {
        "colab": {
          "base_uri": "https://localhost:8080/",
          "height": 902
        },
        "id": "0-5xDDWBYRH-",
        "outputId": "854c687d-0d05-44f6-9592-ae59386eeeb0"
      },
      "execution_count": 6,
      "outputs": [
        {
          "output_type": "stream",
          "name": "stdout",
          "text": [
            "**Conceitos Fundamentais**\n",
            "\n",
            "* Definição e história da Inteligência Artificial (IA)\n",
            "* Tipos de IA: IA fraca, IA forte e IA geral\n",
            "* Aprendizado de máquina, aprendizado profundo e redes neurais\n",
            "\n",
            "**Técnicas e Algoritmos**\n",
            "\n",
            "* Regressão, classificação e agrupamento\n",
            "* Árvores de decisão, máquinas de vetores de suporte e redes neurais convolucionais\n",
            "* Algoritmos de otimização e técnicas de regularização\n",
            "\n",
            "**Aplicações da IA**\n",
            "\n",
            "* Processamento de linguagem natural (PNL)\n",
            "* Visão computacional\n",
            "* Robótica\n",
            "* Veículos autônomos\n",
            "* Cuidados de saúde\n",
            "\n",
            "**Ética e Implicações Sociais**\n",
            "\n",
            "* Viés e discriminação em sistemas de IA\n",
            "* Desemprego tecnológico e desigualdade\n",
            "* Privacidade e segurança de dados\n",
            "\n",
            "**Recursos de Aprendizagem**\n",
            "\n",
            "**Cursos Online:**\n",
            "\n",
            "* Coursera: IA para Todos\n",
            "* edX: Introdução à Inteligência Artificial\n",
            "* Udacity: Programa de Nanodegrau em IA\n",
            "\n",
            "**Livros:**\n",
            "\n",
            "* \"Inteligência Artificial: Uma Abordagem Moderna\" por Stuart Russell e Peter Norvig\n",
            "* \"Aprendizado de Máquina\" por Tom Mitchell\n",
            "* \"Deep Learning\" por Ian Goodfellow, Yoshua Bengio e Aaron Courville\n",
            "\n",
            "**Revistas e Publicações:**\n",
            "\n",
            "* Journal of Machine Learning Research\n",
            "* IEEE Transactions on Neural Networks and Learning Systems\n",
            "* Nature Machine Intelligence\n",
            "\n",
            "**Comunidades e Fóruns:**\n",
            "\n",
            "* Stack Overflow (IA)\n",
            "* Reddit (IA)\n",
            "* LinkedIn (Grupos de IA)\n"
          ]
        }
      ]
    },
    {
      "cell_type": "code",
      "source": [
        "chat = model.start_chat(history=[])"
      ],
      "metadata": {
        "id": "oTwYqmxdY65P"
      },
      "execution_count": 7,
      "outputs": []
    },
    {
      "cell_type": "code",
      "source": [
        "prompt = input('Esperando o prompt: ')\n",
        "\n",
        "while prompt != 'fim':\n",
        "    response = chat.send_message(prompt)\n",
        "    print('Resposta: ', response.text, '\\n')\n",
        "    prompt = input('Esperando o prompt: ')"
      ],
      "metadata": {
        "colab": {
          "base_uri": "https://localhost:8080/",
          "height": 783
        },
        "id": "KpA4TlEvZYZd",
        "outputId": "e7cf4f10-57e2-43b5-a3e5-0b2ae3471f38"
      },
      "execution_count": 8,
      "outputs": [
        {
          "name": "stdout",
          "output_type": "stream",
          "text": [
            "Esperando o prompt: FIM\n",
            "Resposta:  **FIM (Fast Inverse Matrix Square Root)**\n",
            "\n",
            "**Purpose:**\n",
            "\n",
            "FIM is an algorithm used to compute the inverse square root of a positive definite matrix efficiently. It is commonly used in optimization and machine learning algorithms, such as the Levenberg-Marquardt algorithm.\n",
            "\n",
            "**Algorithm:**\n",
            "\n",
            "FIM involves the following steps:\n",
            "\n",
            "1. **Cholesky Decomposition:** Decompose the input matrix A into L * L^T, where L is a lower triangular matrix.\n",
            "2. **Triangular Inversion:** Solve the triangular system L * X = I to obtain X, where X is the inverse of L.\n",
            "3. **Transpose:** Transpose X to obtain X^T.\n",
            "4. **Triangular Inversion:** Solve the triangular system X^T * Y = I to obtain Y, where Y is the inverse of X^T.\n",
            "5. **Inverse Square Root:** Compute the inverse square root of Y as Z = Y^(1/2).\n",
            "\n",
            "**Properties:**\n",
            "\n",
            "* FIM is efficient for large matrices.\n",
            "* It is numerically stable and avoids the need for explicit matrix inversion.\n",
            "* It can be used to compute the square root of a positive semidefinite matrix by modifying the algorithm slightly.\n",
            "\n",
            "**Applications:**\n",
            "\n",
            "FIM is used in various applications, including:\n",
            "\n",
            "* Optimization: Computing the inverse Hessian matrix in the Levenberg-Marquardt algorithm.\n",
            "* Machine Learning: Training Gaussian process models, where it is used to compute the inverse covariance matrix.\n",
            "* Numerical Analysis: Solving linear systems with positive definite coefficient matrices.\n",
            "\n",
            "**Advantages:**\n",
            "\n",
            "* **Efficiency:** FIM is faster than computing the matrix inverse directly.\n",
            "* **Stability:** It is numerically stable, even for ill-conditioned matrices.\n",
            "* **Versatility:** It can be used for both positive definite and positive semidefinite matrices.\n",
            "\n",
            "**Disadvantages:**\n",
            "\n",
            "* **Limited to Positive Definite Matrices:** FIM can only be applied to matrices that are positive definite.\n",
            "* **Computational Complexity:** The time complexity of FIM is O(n^3), where n is the size of the matrix. \n",
            "\n",
            "Esperando o prompt: fim\n"
          ]
        }
      ]
    }
  ]
}